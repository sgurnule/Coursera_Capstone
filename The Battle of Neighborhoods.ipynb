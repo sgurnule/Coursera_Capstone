{
    "cells": [
        {
            "cell_type": "markdown",
            "metadata": {
                "collapsed": true
            },
            "source": "# The Battle of Neighborhoods"
        },
        {
            "cell_type": "markdown",
            "metadata": {},
            "source": "## Introduction\n\nNew York City's demographics show that it is a large and ethnically diverse metropolis. It is the largest city in the United States with a long history of international immigration. New York City was home to nearly 8.5 million people in 2014, accounting for over 40% of the population of New York State and a slightly lower percentage of the New York metropolitan area, home to approximately 23.6 million. Over the last decade the city has been growing faster than the region. The New York region continues to be by far the leading metropolitan gateway for legal immigrants admitted into the United States.\n\nThroughout its history, New York City has been a major point of entry for immigrants; the term \"melting pot\" was coined to describe densely populated immigrant neighborhoods on the Lower East Side. As many as 800 languages are spoken in New York, making it the most linguistically diverse city in the world. English remains the most widely spoken language, although there are areas in the outer boroughs in which up to 25% of people speak English as an alternate language, and/or have limited or no English language fluency. English is least spoken in neighborhoods such as Flushing, Sunset Park, and Corona.\n\nWith it's diverse culture , comes diverse food items. There are many resturants in New york City, each beloning to different categories like Chinese , Indian , French etc.\n\nSo as part of this project , we will list and visualize all major parts of New York City that has great indian resturants."
        },
        {
            "cell_type": "markdown",
            "metadata": {},
            "source": "## Data\n\nFor this project we need the following data :\n\n* New York City data that contains list Boroughs, Neighborhoods along with their latitude and longitude.\n    * Data source : https://cocl.us/new_york_dataset\n    * Description : This data set contains the required information. And we will use this data set to explore various neighborhoods of new york city.\n* Indian resturants in each neighborhood of new york city.\n    * Data source : Fousquare API\n    * Description : By using this api we will get all the venues in each neighborhood. We can filter these venues to get only indian resturants.\n* GeoSpace data\n    * Data source : https://data.cityofnewyork.us/City-Government/Borough-Boundaries/tqmj-j8zm\n    * Description : By using this geo space data we will get the New york Borough boundaries that will help us visualize choropleth map."
        },
        {
            "cell_type": "markdown",
            "metadata": {},
            "source": "## Approach\n\n* Collect the new york city data from https://cocl.us/new_york_dataset\n* Using FourSquare API we will find all venues for each neighborhood.\n* Filter out all venues that are Indian Resturants.\n* Find rating , tips and like count for each Indian Resturants using FourSquare API.\n* Using rating for each resturant , we will sort that data.\n* Visualize the Ranking of neighborhoods using folium library(python)"
        },
        {
            "cell_type": "markdown",
            "metadata": {},
            "source": "## Questions that can be asked using the above mentioned datasets\n\n* What is best location in New York City for Indian Cuisine ?\n* Which areas have potential Indian Resturant Market ?\n* Which all areas lack Indian Resturants ?\n* Which is the best place to stay if I prefer Indian Cuisine ?"
        },
        {
            "cell_type": "markdown",
            "metadata": {},
            "source": "## Analysis\n\nWe will import the required libraries for python.\n\n* pandas and numpy for handling data.\n* request module for using FourSquare API.\n* geopy to get co-ordinates of City of New York.\n* folium to visualize the results on a map"
        },
        {
            "cell_type": "code",
            "execution_count": null,
            "metadata": {},
            "outputs": [],
            "source": "#!conda install -c conda-forge geopy --yes\n#!conda install -c conda-forge folium=0.5.0 --yes\n\nimport pandas as pd\nimport numpy as np\npd.set_option('display.max_columns', None)\npd.set_option('display.max_rows', None)\nimport requests\nfrom bs4 import BeautifulSoup\n\nimport os\nimport folium # map rendering library\nfrom geopy.geocoders import Nominatim # convert an address into latitude and longitude values\n# Matplotlib and associated plotting modules\nimport matplotlib.pyplot as plt\nimport matplotlib.cm as cm\nimport matplotlib.colors as colors\n%matplotlib inline\n\nprint('Libraries imported.')"
        },
        {
            "cell_type": "markdown",
            "metadata": {},
            "source": "Now we define a function to get the geocodes i.e latitude and longitude of a given location using geopy."
        },
        {
            "cell_type": "code",
            "execution_count": null,
            "metadata": {},
            "outputs": [],
            "source": "def geo_location(address):\n    # get geo location of address\n    geolocator = Nominatim(user_agent=\"ny_explorer\")\n    location = geolocator.geocode(address)\n    latitude = location.latitude\n    longitude = location.longitude\n    return latitude,longitude"
        },
        {
            "cell_type": "markdown",
            "metadata": {},
            "source": "We define a function to intract with FourSquare API and get top 100 venues within a radius of 1000 metres for a given latitude and longitude. Below function will return us the venue id , venue name and category."
        },
        {
            "cell_type": "code",
            "execution_count": null,
            "metadata": {},
            "outputs": [],
            "source": "def get_venues(lat,lng):\n    \n    #set variables\n    radius=1000\n    LIMIT=100\n    CLIENT_ID = 'XXXXXXX'# your Foursquare ID\n    CLIENT_SECRET = 'XXXXXXX' # your Foursquare Secret\n    VERSION = '20200629' # Foursquare API version\n    \n    #url to fetch data from foursquare api\n    url = 'https://api.foursquare.com/v2/venues/explore?&client_id={}&client_secret={}&v={}&ll={},{}&radius={}&limit={}'.format(\n            CLIENT_ID, \n            CLIENT_SECRET, \n            VERSION, \n            lat, \n            lng, \n            radius, \n            LIMIT)\n    \n    # get all the data\n    results = requests.get(url).json()\n    venue_data=results[\"response\"]['groups'][0]['items']\n    venue_details=[]\n    for row in venue_data:\n        try:\n            venue_id=row['venue']['id']\n            venue_name=row['venue']['name']\n            venue_category=row['venue']['categories'][0]['name']\n            venue_details.append([venue_id,venue_name,venue_category])\n        except KeyError:\n            pass\n        \n    column_names=['ID','Name','Category']\n    df = pd.DataFrame(venue_details,columns=column_names)\n    return df"
        },
        {
            "cell_type": "markdown",
            "metadata": {},
            "source": "Now we will define a function to get venue details like like count , rating , tip counts for a given venue id. This will be used for ranking."
        },
        {
            "cell_type": "code",
            "execution_count": null,
            "metadata": {},
            "outputs": [],
            "source": "def get_venue_details(venue_id):\n        \n    CLIENT_ID = 'XXXXXX'# your Foursquare ID\n    CLIENT_SECRET = 'XXXXXX' # your Foursquare Secret\n    VERSION = '20200629' # Foursquare API version\n    \n    #url to fetch data from foursquare api\n    url = 'https://api.foursquare.com/v2/venues/{}?&client_id={}&client_secret={}&v={}'.format(\n            venue_id,\n            CLIENT_ID, \n            CLIENT_SECRET, \n            VERSION)\n    \n    # get all the data\n    results = requests.get(url).json()\n    venue_data=results['response']['venue']\n    venue_details=[]\n    try:\n        venue_id=venue_data['id']\n        venue_name=venue_data['name']\n        venue_likes=venue_data['likes']['count']\n        venue_rating=venue_data['rating']\n        venue_tips=venue_data['tips']['count']\n        venue_details.append([venue_id,venue_name,venue_likes,venue_rating,venue_tips])\n    except KeyError:\n        pass\n        \n    column_names=['ID','Name','Likes','Rating','Tips']\n    df = pd.DataFrame(venue_details,columns=column_names)\n    return df"
        },
        {
            "cell_type": "markdown",
            "metadata": {},
            "source": "Now we define a funtion to get the new york city data such as Boroughs, Neighborhoods along with their latitude and longitude."
        },
        {
            "cell_type": "code",
            "execution_count": null,
            "metadata": {},
            "outputs": [],
            "source": "def get_new_york_data():\n    url='https://cocl.us/new_york_dataset'\n    resp=requests.get(url).json()\n    # all data is present in features label\n    features=resp['features']\n    \n    # define the dataframe columns\n    column_names = ['Borough', 'Neighborhood', 'Latitude', 'Longitude'] \n    # instantiate the dataframe\n    new_york_data = pd.DataFrame(columns=column_names)\n    \n    for data in features:\n        borough = data['properties']['borough'] \n        neighborhood_name = data['properties']['name']\n        \n        neighborhood_latlon = data['geometry']['coordinates']\n        neighborhood_lat = neighborhood_latlon[1]\n        neighborhood_lon = neighborhood_latlon[0]\n    \n        new_york_data = new_york_data.append({'Borough': borough,\n                                          'Neighborhood': neighborhood_name,\n                                          'Latitude': neighborhood_lat,\n                                          'Longitude': neighborhood_lon}, ignore_index=True)\n    \n    return new_york_data"
        },
        {
            "cell_type": "markdown",
            "metadata": {},
            "source": "We will call the above funtion to get the new york city data."
        },
        {
            "cell_type": "code",
            "execution_count": null,
            "metadata": {},
            "outputs": [],
            "source": "# get new york data\nnew_york_data=get_new_york_data()"
        },
        {
            "cell_type": "code",
            "execution_count": null,
            "metadata": {},
            "outputs": [],
            "source": "new_york_data.head()"
        },
        {
            "cell_type": "code",
            "execution_count": null,
            "metadata": {},
            "outputs": [],
            "source": "new_york_data.shape"
        },
        {
            "cell_type": "code",
            "execution_count": null,
            "metadata": {},
            "outputs": [],
            "source": "plt.figure(figsize=(9,5), dpi = 100)\n# title\nplt.title('Number of Neighborhood for each Borough in New York City')\n#On x-axis\nplt.xlabel('Borough', fontsize = 15)\n#On y-axis\nplt.ylabel('No.of Neighborhood', fontsize=15)\n#giving a bar plot\nnew_york_data.groupby('Borough')['Neighborhood'].count().plot(kind='bar')\n#legend\nplt.legend()\n#displays the plot\nplt.show()"
        },
        {
            "cell_type": "markdown",
            "metadata": {},
            "source": "We see that Queens has highest number of neighborhoods\n\nNow we will collect Indian resturants for each Neighborhood"
        },
        {
            "cell_type": "code",
            "execution_count": null,
            "metadata": {},
            "outputs": [],
            "source": "# prepare neighborhood list that contains indian resturants\ncolumn_names=['Borough', 'Neighborhood', 'ID','Name']\nindian_rest_ny=pd.DataFrame(columns=column_names)\ncount=1\nfor row in new_york_data.values.tolist():\n    Borough, Neighborhood, Latitude, Longitude=row\n    venues = get_venues(Latitude,Longitude)\n    indian_resturants=venues[venues['Category']=='Indian Restaurant']   \n    print('(',count,'/',len(new_york_data),')','Indian Resturants in '+Neighborhood+', '+Borough+':'+str(len(indian_resturants)))\n    for resturant_detail in indian_resturants.values.tolist():\n        id, name , category=resturant_detail\n        indian_rest_ny = indian_rest_ny.append({'Borough': Borough,\n                                                'Neighborhood': Neighborhood, \n                                                'ID': id,\n                                                'Name' : name\n                                               }, ignore_index=True)\n    count+=1"
        },
        {
            "cell_type": "markdown",
            "metadata": {},
            "source": "Now that we have got all the indian resturants in new york city , we will analyze it"
        },
        {
            "cell_type": "code",
            "execution_count": null,
            "metadata": {},
            "outputs": [],
            "source": "indian_rest_ny.head()"
        },
        {
            "cell_type": "code",
            "execution_count": null,
            "metadata": {},
            "outputs": [],
            "source": "indian_rest_ny.shape"
        },
        {
            "cell_type": "markdown",
            "metadata": {},
            "source": "We got 153 Indian Resturants across New York City"
        },
        {
            "cell_type": "code",
            "execution_count": null,
            "metadata": {},
            "outputs": [],
            "source": "plt.figure(figsize=(9,5), dpi = 100)\n# title\nplt.title('Number of Indian Resturants for each Borough in New York City')\n#On x-axis\nplt.xlabel('Borough', fontsize = 15)\n#On y-axis\nplt.ylabel('No.of Indian Resturants', fontsize=15)\n#giving a bar plot\nindian_rest_ny.groupby('Borough')['ID'].count().plot(kind='bar')\n#legend\nplt.legend()\n#displays the plot\nplt.show()"
        },
        {
            "cell_type": "markdown",
            "metadata": {},
            "source": "We see that Queens has the largest number of indian resturants"
        },
        {
            "cell_type": "code",
            "execution_count": null,
            "metadata": {},
            "outputs": [],
            "source": "plt.figure(figsize=(9,5), dpi = 100)\n# title\nplt.title('Number of Indian Resturants for each Neighborhood in New York City')\n#On x-axis\nplt.xlabel('Neighborhood', fontsize = 15)\n#On y-axis\nplt.ylabel('No.of Indian Resturants', fontsize=15)\n#giving a bar plot\nindian_rest_ny.groupby('Neighborhood')['ID'].count().nlargest(5).plot(kind='bar')\n#legend\nplt.legend()\n#displays the plot\nplt.show()"
        },
        {
            "cell_type": "code",
            "execution_count": null,
            "metadata": {},
            "outputs": [],
            "source": "indian_rest_ny[indian_rest_ny['Neighborhood']=='Floral Park']"
        },
        {
            "cell_type": "markdown",
            "metadata": {},
            "source": "So Floral Park in Queens has the highest number of Indian Resturants with a total count of 9.\n\nNow we will get the ranking of each resturant for further analysis."
        },
        {
            "cell_type": "code",
            "execution_count": null,
            "metadata": {},
            "outputs": [],
            "source": "\n# prepare neighborhood list that contains indian resturants\ncolumn_names=['Borough', 'Neighborhood', 'ID','Name','Likes','Rating','Tips']\nindian_rest_stats_ny=pd.DataFrame(columns=column_names)\ncount=1\n\n\nfor row in indian_rest_ny.values.tolist():\n    Borough,Neighborhood,ID,Name=row\n    try:\n        venue_details=get_venue_details(ID)\n        print(venue_details)\n        id,name,likes,rating,tips=venue_details.values.tolist()[0]\n    except IndexError:\n        print('No data available for id=',ID)\n        # we will assign 0 value for these resturants as they may have been \n        #recently opened or details does not exist in FourSquare Database\n        id,name,likes,rating,tips=[0]*5\n    print('(',count,'/',len(indian_rest_ny),')','processed')\n    indian_rest_stats_ny = indian_rest_stats_ny.append({'Borough': Borough,\n                                                'Neighborhood': Neighborhood, \n                                                'ID': id,\n                                                'Name' : name,\n                                                'Likes' : likes,\n                                                'Rating' : rating,\n                                                'Tips' : tips\n                                               }, ignore_index=True)\n    count+=1"
        },
        {
            "cell_type": "code",
            "execution_count": null,
            "metadata": {},
            "outputs": [],
            "source": "indian_rest_stats_ny.head()"
        },
        {
            "cell_type": "code",
            "execution_count": null,
            "metadata": {},
            "outputs": [],
            "source": "indian_rest_stats_ny.shape"
        },
        {
            "cell_type": "code",
            "execution_count": null,
            "metadata": {},
            "outputs": [],
            "source": "indian_rest_ny.shape"
        },
        {
            "cell_type": "markdown",
            "metadata": {},
            "source": "So we got data for all resturants Now lets save this data to a csv sheet. In case we by mistake modify it. As the number of calls to get details for venue are premium call and have limit of 500 per day, we will refer to saved data sheet csv if required"
        },
        {
            "cell_type": "code",
            "execution_count": null,
            "metadata": {},
            "outputs": [],
            "source": "indian_rest_stats_ny.to_csv('indian_rest_stats_ny.csv', index=False)"
        },
        {
            "cell_type": "markdown",
            "metadata": {},
            "source": "Lets verify the data from saved csv file"
        },
        {
            "cell_type": "code",
            "execution_count": null,
            "metadata": {},
            "outputs": [],
            "source": "indian_rest_stats_ny_csv=pd.read_csv('indian_rest_stats_ny.csv')"
        },
        {
            "cell_type": "code",
            "execution_count": null,
            "metadata": {},
            "outputs": [],
            "source": "indian_rest_stats_ny_csv.shape"
        },
        {
            "cell_type": "code",
            "execution_count": null,
            "metadata": {},
            "outputs": [],
            "source": "indian_rest_stats_ny_csv.head()"
        },
        {
            "cell_type": "code",
            "execution_count": null,
            "metadata": {},
            "outputs": [],
            "source": "indian_rest_stats_ny.info()"
        },
        {
            "cell_type": "code",
            "execution_count": null,
            "metadata": {},
            "outputs": [],
            "source": "indian_rest_stats_ny['Likes']=indian_rest_stats_ny['Likes'].astype('float64')"
        },
        {
            "cell_type": "code",
            "execution_count": null,
            "metadata": {},
            "outputs": [],
            "source": "indian_rest_stats_ny['Tips']=indian_rest_stats_ny['Tips'].astype('float64')"
        },
        {
            "cell_type": "code",
            "execution_count": null,
            "metadata": {},
            "outputs": [],
            "source": "indian_rest_stats_ny.info()"
        },
        {
            "cell_type": "markdown",
            "metadata": {},
            "source": "Now the data types looks correct"
        },
        {
            "cell_type": "code",
            "execution_count": null,
            "metadata": {},
            "outputs": [],
            "source": "# Resturant with maximum Likes\nindian_rest_stats_ny.iloc[indian_rest_stats_ny['Likes'].idxmax()]"
        },
        {
            "cell_type": "code",
            "execution_count": null,
            "metadata": {},
            "outputs": [],
            "source": "# Resturant with maximum Rating\nindian_rest_stats_ny.iloc[indian_rest_stats_ny['Rating'].idxmax()]"
        },
        {
            "cell_type": "code",
            "execution_count": null,
            "metadata": {},
            "outputs": [],
            "source": "# Resturant with maximum Tips\nindian_rest_stats_ny.iloc[indian_rest_stats_ny['Tips'].idxmax()]"
        },
        {
            "cell_type": "markdown",
            "metadata": {},
            "source": "Now lets visualize neighborhood with maximum average rating of resturants"
        },
        {
            "cell_type": "code",
            "execution_count": null,
            "metadata": {},
            "outputs": [],
            "source": "ny_neighborhood_stats=indian_rest_stats_ny.groupby('Neighborhood',as_index=False).mean()[['Neighborhood','Rating']]\nny_neighborhood_stats.columns=['Neighborhood','Average Rating']"
        },
        {
            "cell_type": "code",
            "execution_count": null,
            "metadata": {},
            "outputs": [],
            "source": "ny_neighborhood_stats.sort_values(['Average Rating'],ascending=False).head(10)"
        },
        {
            "cell_type": "markdown",
            "metadata": {},
            "source": "\nAbove are the top neighborhoods with top average rating of Indian resturants"
        },
        {
            "cell_type": "code",
            "execution_count": null,
            "metadata": {},
            "outputs": [],
            "source": "ny_borough_stats=indian_rest_stats_ny.groupby('Borough',as_index=False).mean()[['Borough','Rating']]\nny_borough_stats.columns=['Borough','Average Rating']"
        },
        {
            "cell_type": "code",
            "execution_count": null,
            "metadata": {},
            "outputs": [],
            "source": "ny_borough_stats.sort_values(['Average Rating'],ascending=False).head()"
        },
        {
            "cell_type": "markdown",
            "metadata": {},
            "source": "Similarly these are the average rating of Indian Resturants for each Borough\n\nLets visualize it"
        },
        {
            "cell_type": "code",
            "execution_count": null,
            "metadata": {},
            "outputs": [],
            "source": "plt.figure(figsize=(9,5), dpi = 100)\n# title\nplt.title('Average rating of Indian Resturants for each Borough')\n#On x-axis\nplt.xlabel('Borough', fontsize = 15)\n#On y-axis\nplt.ylabel('Average Rating', fontsize=15)\n#giving a bar plot\nindian_rest_stats_ny.groupby('Borough').mean()['Rating'].plot(kind='bar')\n#legend\nplt.legend()\n#displays the plot\nplt.show()"
        },
        {
            "cell_type": "markdown",
            "metadata": {},
            "source": "\nWe will consider all the neighborhoods with average rating greater or equal 9.0 to visualize on map"
        },
        {
            "cell_type": "code",
            "execution_count": null,
            "metadata": {},
            "outputs": [],
            "source": "ny_neighborhood_stats=ny_neighborhood_stats[ny_neighborhood_stats['Average Rating']>=9.0]"
        },
        {
            "cell_type": "code",
            "execution_count": null,
            "metadata": {},
            "outputs": [],
            "source": "\nny_neighborhood_stats"
        },
        {
            "cell_type": "markdown",
            "metadata": {},
            "source": "We will join this dataset to original new york data to get lonitude and latitude"
        },
        {
            "cell_type": "code",
            "execution_count": null,
            "metadata": {},
            "outputs": [],
            "source": "ny_neighborhood_stats=pd.merge(ny_neighborhood_stats,new_york_data, on='Neighborhood')"
        },
        {
            "cell_type": "code",
            "execution_count": null,
            "metadata": {},
            "outputs": [],
            "source": "ny_neighborhood_stats=ny_neighborhood_stats[['Borough','Neighborhood','Latitude','Longitude','Average Rating']]"
        },
        {
            "cell_type": "code",
            "execution_count": null,
            "metadata": {},
            "outputs": [],
            "source": "ny_neighborhood_stats"
        },
        {
            "cell_type": "markdown",
            "metadata": {},
            "source": "Now we will show this data on a map"
        },
        {
            "cell_type": "code",
            "execution_count": null,
            "metadata": {},
            "outputs": [],
            "source": "# create map and display it\nny_map = folium.Map(location=geo_location('New York'), zoom_start=12)"
        },
        {
            "cell_type": "code",
            "execution_count": null,
            "metadata": {},
            "outputs": [],
            "source": "# instantiate a feature group for the incidents in the dataframe\nincidents = folium.map.FeatureGroup()\n\n# loop through the 100 crimes and add each to the incidents feature group\nfor lat, lng, in ny_neighborhood_stats[['Latitude','Longitude']].values:\n    incidents.add_child(\n        folium.CircleMarker(\n            [lat, lng],\n            radius=10, # define how big you want the circle markers to be\n            color='yellow',\n            fill=True,\n            fill_color='blue',\n            fill_opacity=0.6\n        )\n    )"
        },
        {
            "cell_type": "markdown",
            "metadata": {},
            "source": "Lets add a new field to dataframe for labeling purpose"
        },
        {
            "cell_type": "code",
            "execution_count": null,
            "metadata": {},
            "outputs": [],
            "source": "ny_neighborhood_stats['Label']=ny_neighborhood_stats['Neighborhood']+', '+ny_neighborhood_stats['Borough']+'('+ny_neighborhood_stats['Average Rating'].map(str)+')'"
        },
        {
            "cell_type": "code",
            "execution_count": null,
            "metadata": {},
            "outputs": [],
            "source": "# add pop-up text to each marker on the map\nfor lat, lng, label in ny_neighborhood_stats[['Latitude','Longitude','Label']].values:\n    folium.Marker([lat, lng], popup=label).add_to(ny_map)        \n# add incidents to map\nny_map.add_child(incidents)"
        },
        {
            "cell_type": "markdown",
            "metadata": {},
            "source": "\nNow that we have visualized the Neighborhoods.\nLets Visualize Boroughs based on average Rating"
        },
        {
            "cell_type": "markdown",
            "metadata": {},
            "source": "Conclusion\n* Astoria(Queens), Blissville(Queens), Civic Center(Manhattan) are some of the best neighborhoods for indian cuisine.\n* Manhattan have potential Indian Resturant Market/\n* Staten Island ranks last in average rating of Indian Resturants.\n* Manhattan is the best place to stay if you prefer Indian Cuisine."
        },
        {
            "cell_type": "markdown",
            "metadata": {},
            "source": "Limitations\n\n* The ranking is purely on basis of rating of resturants\n* The accuracy of data depends purely depends on the data provided by FourSquare"
        }
    ],
    "metadata": {
        "kernelspec": {
            "display_name": "Python 3.6",
            "language": "python",
            "name": "python3"
        },
        "language_info": {
            "codemirror_mode": {
                "name": "ipython",
                "version": 3
            },
            "file_extension": ".py",
            "mimetype": "text/x-python",
            "name": "python",
            "nbconvert_exporter": "python",
            "pygments_lexer": "ipython3",
            "version": "3.6.9"
        }
    },
    "nbformat": 4,
    "nbformat_minor": 1
}